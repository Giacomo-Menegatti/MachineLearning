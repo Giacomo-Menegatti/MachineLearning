{
 "cells": [
  {
   "cell_type": "code",
   "execution_count": 8,
   "metadata": {},
   "outputs": [
    {
     "name": "stdout",
     "output_type": "stream",
     "text": [
      "[[0.24825228 0.47517108 0.39435133]\n",
      " [0.09835118 0.05097567 0.06881328]\n",
      " [0.42553719 0.77152318 0.4670897 ]\n",
      " [0.08618042 0.75927406 0.97827304]\n",
      " [0.85319889 0.75921446 0.96556255]\n",
      " [0.59704298 0.29996855 0.44687676]]\n",
      "[1 5 5 3 2 2 5 5 1 4 5 2 4 2 2 3 2 4 5 4 5 0 3 2]\n",
      "[[0.08984087 0.0770878  0.52883259]\n",
      " [0.39294478 0.1589502  0.0906186 ]\n",
      " [0.56407572 0.81461665 0.31386568]\n",
      " [0.13637336 0.7593238  0.83239505]\n",
      " [0.72773731 0.67314517 0.84978217]\n",
      " [0.78506897 0.24609017 0.32285238]]\n"
     ]
    }
   ],
   "source": [
    "import numpy as np\n",
    "\n",
    "k = 6\n",
    "\n",
    "points = np.random.random(size=(4*k,3))\n",
    "centers = np.random.random(size=(k,3))\n",
    "print(centers)\n",
    "\n",
    "dist = np.array([[np.linalg.norm(a-b) for b in centers] for a in points])\n",
    "min_dist = np.array([a.argmin() for a in dist])\n",
    "print(min_dist)\n",
    "\n",
    "clusters = [points[min_dist == i] for i in range(k)]\n",
    "means = np.array([np.mean(cluster, axis=0) for cluster in clusters])\n",
    "print(means)"
   ]
  }
 ],
 "metadata": {
  "kernelspec": {
   "display_name": "Python 3",
   "language": "python",
   "name": "python3"
  },
  "language_info": {
   "codemirror_mode": {
    "name": "ipython",
    "version": 3
   },
   "file_extension": ".py",
   "mimetype": "text/x-python",
   "name": "python",
   "nbconvert_exporter": "python",
   "pygments_lexer": "ipython3",
   "version": "3.10.12"
  }
 },
 "nbformat": 4,
 "nbformat_minor": 2
}
