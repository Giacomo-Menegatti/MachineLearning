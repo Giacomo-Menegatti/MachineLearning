{
 "cells": [
  {
   "cell_type": "code",
   "execution_count": 36,
   "metadata": {},
   "outputs": [
    {
     "name": "stdout",
     "output_type": "stream",
     "text": [
      "[[0.4662225  0.49109828 0.21715877]\n",
      " [0.2216715  0.23228762 0.9741501 ]\n",
      " [0.33401404 0.56849879 0.9874614 ]]\n",
      "[[0.609326   0.28484167 0.28201189]\n",
      " [0.16268935 0.273969   0.84441073]\n",
      " [0.54608097 0.69409482 0.72467681]]\n",
      "1.52421390729639\n"
     ]
    }
   ],
   "source": [
    "import numpy as np\n",
    "\n",
    "k = 3\n",
    "\n",
    "points = np.random.random(size=(4*k,3))\n",
    "centers = np.random.random(size=(k,3))\n",
    "print(centers)\n",
    "\n",
    "dist = np.array([[np.linalg.norm(a-b) for b in centers] for a in points])\n",
    "cluster = np.array([a.argmin() for a in dist])\n",
    "\n",
    "means = np.array([np.mean(points[cluster == i], axis=0) for i in range(k)])\n",
    "print(means)\n",
    "\n",
    "errors = np.sum([np.sum([np.linalg.norm(a-b)**2 for b in points[cluster == i]]) for a, i in zip(means, range(k))])\n",
    "print(errors)"
   ]
  }
 ],
 "metadata": {
  "kernelspec": {
   "display_name": "Python 3",
   "language": "python",
   "name": "python3"
  },
  "language_info": {
   "codemirror_mode": {
    "name": "ipython",
    "version": 3
   },
   "file_extension": ".py",
   "mimetype": "text/x-python",
   "name": "python",
   "nbconvert_exporter": "python",
   "pygments_lexer": "ipython3",
   "version": "3.10.12"
  }
 },
 "nbformat": 4,
 "nbformat_minor": 2
}
