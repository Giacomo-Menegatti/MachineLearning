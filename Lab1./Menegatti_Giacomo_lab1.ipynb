{
 "cells": [
  {
   "cell_type": "markdown",
   "metadata": {},
   "source": [
    "# Machine Learning LAB 1 \n",
    "Course 2023/24: F. Chiariotti\n",
    "\n",
    "The notebook contains some simple tasks to be performed about **classification and regression**. <br>\n",
    "Complete all the **required code sections** and **answer to all the questions**. <br>\n",
    "\n",
    "### IMPORTANT for the evaluation score:\n",
    "1. **Read carefully all cells** and **follow the instructions**\n",
    "1. **Rerun all the code from the beginning** to obtain the results for the final version of your notebook, since this is the way we will do it before evaluating your notebooks.\n",
    "2. Make sure to fill the code in the appropriate places **without modifying the template**, otherwise you risk breaking later cells.\n",
    "3. Please **submit the jupyter notebook file (.ipynb)**, do not submit python scripts (.py) or plain text files. **Make sure that it runs fine with the restat&run all command** - otherwise points will be deduced.\n",
    "4. **Answer the questions in the appropriate cells**, not in the ones where the question is presented."
   ]
  },
  {
   "cell_type": "markdown",
   "metadata": {},
   "source": [
    "## A) Classification of Stayed/Churned Customers"
   ]
  },
  {
   "cell_type": "markdown",
   "metadata": {},
   "source": [
    "Place your **name** and **ID number** (matricola) in the cell below. <br>\n",
    "Also recall to **save the file as Surname_Name_LAB1.ipynb** otherwise your homework could get lost\n",
    "<br>"
   ]
  },
  {
   "cell_type": "markdown",
   "metadata": {},
   "source": [
    "**Student name**: Giacomo Menegatti<br>\n",
    "**ID Number**: 2122852"
   ]
  },
  {
   "cell_type": "markdown",
   "metadata": {},
   "source": [
    "<div class=\"alert alert-block alert-info\">\n",
    "**WARNING**:<br>\n",
    "I had a couple of images too of the training and test errors for the perceptron up to 3000 iterations but I can't load them on elearning. Those graphs can be created again but it's a really slow process, so I set the corresponding cell to 'raw' to stop it to be executed. \n",
    " </div>"
   ]
  },
  {
   "cell_type": "markdown",
   "metadata": {},
   "source": [
    "### Dataset description\n",
    "\n",
    "The Customer Churn table contains information on all 3,758 customers from a Telecommunications company in California in Q2 2022. \n",
    "The dataset contains three features:\n",
    "- **Tenure in Months**: Number of months the customer has stayed with the company\n",
    "- **Monthly Charge**: The amount charged to the customer monthly\n",
    "- **Age**: Customer's age\n",
    "\n",
    "The aim of the task is to predict if a customer will churn or not based on the three features.\n",
    "\n",
    "<center>\n",
    "\n",
    "![COVER](data/dataset-cover.png \"COVER\")\n",
    "\n",
    "</center>"
   ]
  },
  {
   "cell_type": "markdown",
   "metadata": {},
   "source": [
    "We first **import** all **the packages** that are needed."
   ]
  },
  {
   "cell_type": "code",
   "execution_count": 6,
   "metadata": {},
   "outputs": [
    {
     "name": "stdout",
     "output_type": "stream",
     "text": [
      "/home/menegattig/sketchbook/python_notebooks/MachineLearning/Lab1.\n"
     ]
    }
   ],
   "source": [
    "import pandas as pd\n",
    "from matplotlib import pyplot as plt\n",
    "import numpy as np\n",
    "from sklearn import linear_model, preprocessing"
   ]
  },
  {
   "cell_type": "markdown",
   "metadata": {},
   "source": [
    "Change some global settings for layout purposes."
   ]
  },
  {
   "cell_type": "code",
   "execution_count": 2,
   "metadata": {},
   "outputs": [],
   "source": [
    "# if you are in the jupyter notebook environment you can change the 'inline' option with 'notebook' to get interactive plots\n",
    "\n",
    "#%matplotlib widget  #I used widget because works better for me on vscode\n",
    "%matplotlib inline\n",
    "\n",
    "# change the limit on the line length and crop to 0 very small numbers, for clearer printing\n",
    "np.set_printoptions(linewidth=500, suppress=True)"
   ]
  },
  {
   "cell_type": "markdown",
   "metadata": {},
   "source": [
    "## A.1) Perceptron\n",
    "In the following cells we will **implement** the **perceptron** algorithm and use it to learn a halfspace."
   ]
  },
  {
   "cell_type": "markdown",
   "metadata": {},
   "source": [
    "**TO DO (A.1.0):** **Set** the random **seed** using your **ID**. If you need to change it for testing add a constant explicitly, eg.: 1234567 + 1"
   ]
  },
  {
   "cell_type": "code",
   "execution_count": 3,
   "metadata": {},
   "outputs": [],
   "source": [
    "IDnumber = 2122852  # YOUR_ID\n",
    "np.random.seed(IDnumber)"
   ]
  },
  {
   "cell_type": "markdown",
   "metadata": {},
   "source": [
    "Before proceding to the training steps, we **load the dataset and split it** in training and test set (the **training** set is **typically larger**, here we use a 75% training 25% test split).\n",
    "The **split** is **performed after applying a random permutation** to the dataset, such permutation will **depend on the seed** you set above. Try different seeds to evaluate the impact of randomization.<br><br>\n",
    "**DO NOT CHANGE THE PRE-WRITTEN CODE UNLESS OTHERWISE SPECIFIED**"
   ]
  },
  {
   "cell_type": "markdown",
   "metadata": {},
   "source": [
    "### The Dataset\n",
    "The dataset is a `.csv` file containing three input features and a label. Here is an example of the first 4 rows of the dataset: \n",
    "\n",
    "<center>\n",
    "\n",
    "Tenure in Months | Monthly Charge | Age | Customer Status |\n",
    "| -----------------| ---------------|-----|-----------------|\n",
    "| 9 | 65.6 | 37 | 0 |\n",
    "| 9 | -4.0 | 46 | 0 |\n",
    "| 4 | 73.9 | 50 | 1 |\n",
    "| ... | ... | ... | ... |\n",
    "\n",
    "</center>\n",
    "\n",
    "Customer Status is 0 if the customer has stayed with the company and 1 if the customer has churned."
   ]
  },
  {
   "cell_type": "code",
   "execution_count": 4,
   "metadata": {},
   "outputs": [],
   "source": [
    "def load_dataset(filename):\n",
    "    data_train = pd.read_csv(filename)\n",
    "    #permute the data\n",
    "    data_train = data_train.sample(frac=1).reset_index(drop=True) # shuffle the data\n",
    "    X = data_train.iloc[:, 0:3].values # Get first two columns as the input\n",
    "    Y = data_train.iloc[:, 3].values # Get the third column as the label\n",
    "    Y = 2*Y-1 # Make sure labels are -1 or 1 (0 --> -1, 1 --> 1)\n",
    "    return X,Y"
   ]
  },
  {
   "cell_type": "code",
   "execution_count": 5,
   "metadata": {},
   "outputs": [
    {
     "ename": "FileNotFoundError",
     "evalue": "[Errno 2] No such file or directory: 'data/telecom_customer_churn_cleaned.csv'",
     "output_type": "error",
     "traceback": [
      "\u001b[0;31m---------------------------------------------------------------------------\u001b[0m",
      "\u001b[0;31mFileNotFoundError\u001b[0m                         Traceback (most recent call last)",
      "\u001b[1;32m/home/menegattig/sketchbook/python_notebooks/MachineLearning/Lab1./Menegatti_Giacomo_lab1.ipynb Cell 17\u001b[0m line \u001b[0;36m2\n\u001b[1;32m      <a href='vscode-notebook-cell:/home/menegattig/sketchbook/python_notebooks/MachineLearning/Lab1./Menegatti_Giacomo_lab1.ipynb#X22sZmlsZQ%3D%3D?line=0'>1</a>\u001b[0m \u001b[39m# Load the dataset\u001b[39;00m\n\u001b[0;32m----> <a href='vscode-notebook-cell:/home/menegattig/sketchbook/python_notebooks/MachineLearning/Lab1./Menegatti_Giacomo_lab1.ipynb#X22sZmlsZQ%3D%3D?line=1'>2</a>\u001b[0m X, Y \u001b[39m=\u001b[39m load_dataset(\u001b[39m'\u001b[39;49m\u001b[39mdata/telecom_customer_churn_cleaned.csv\u001b[39;49m\u001b[39m'\u001b[39;49m)\n",
      "\u001b[1;32m/home/menegattig/sketchbook/python_notebooks/MachineLearning/Lab1./Menegatti_Giacomo_lab1.ipynb Cell 17\u001b[0m line \u001b[0;36m2\n\u001b[1;32m      <a href='vscode-notebook-cell:/home/menegattig/sketchbook/python_notebooks/MachineLearning/Lab1./Menegatti_Giacomo_lab1.ipynb#X22sZmlsZQ%3D%3D?line=0'>1</a>\u001b[0m \u001b[39mdef\u001b[39;00m \u001b[39mload_dataset\u001b[39m(filename):\n\u001b[0;32m----> <a href='vscode-notebook-cell:/home/menegattig/sketchbook/python_notebooks/MachineLearning/Lab1./Menegatti_Giacomo_lab1.ipynb#X22sZmlsZQ%3D%3D?line=1'>2</a>\u001b[0m     data_train \u001b[39m=\u001b[39m pd\u001b[39m.\u001b[39;49mread_csv(filename)\n\u001b[1;32m      <a href='vscode-notebook-cell:/home/menegattig/sketchbook/python_notebooks/MachineLearning/Lab1./Menegatti_Giacomo_lab1.ipynb#X22sZmlsZQ%3D%3D?line=2'>3</a>\u001b[0m     \u001b[39m#permute the data\u001b[39;00m\n\u001b[1;32m      <a href='vscode-notebook-cell:/home/menegattig/sketchbook/python_notebooks/MachineLearning/Lab1./Menegatti_Giacomo_lab1.ipynb#X22sZmlsZQ%3D%3D?line=3'>4</a>\u001b[0m     data_train \u001b[39m=\u001b[39m data_train\u001b[39m.\u001b[39msample(frac\u001b[39m=\u001b[39m\u001b[39m1\u001b[39m)\u001b[39m.\u001b[39mreset_index(drop\u001b[39m=\u001b[39m\u001b[39mTrue\u001b[39;00m) \u001b[39m# shuffle the data\u001b[39;00m\n",
      "File \u001b[0;32m~/.local/lib/python3.10/site-packages/pandas/io/parsers/readers.py:912\u001b[0m, in \u001b[0;36mread_csv\u001b[0;34m(filepath_or_buffer, sep, delimiter, header, names, index_col, usecols, dtype, engine, converters, true_values, false_values, skipinitialspace, skiprows, skipfooter, nrows, na_values, keep_default_na, na_filter, verbose, skip_blank_lines, parse_dates, infer_datetime_format, keep_date_col, date_parser, date_format, dayfirst, cache_dates, iterator, chunksize, compression, thousands, decimal, lineterminator, quotechar, quoting, doublequote, escapechar, comment, encoding, encoding_errors, dialect, on_bad_lines, delim_whitespace, low_memory, memory_map, float_precision, storage_options, dtype_backend)\u001b[0m\n\u001b[1;32m    899\u001b[0m kwds_defaults \u001b[39m=\u001b[39m _refine_defaults_read(\n\u001b[1;32m    900\u001b[0m     dialect,\n\u001b[1;32m    901\u001b[0m     delimiter,\n\u001b[0;32m   (...)\u001b[0m\n\u001b[1;32m    908\u001b[0m     dtype_backend\u001b[39m=\u001b[39mdtype_backend,\n\u001b[1;32m    909\u001b[0m )\n\u001b[1;32m    910\u001b[0m kwds\u001b[39m.\u001b[39mupdate(kwds_defaults)\n\u001b[0;32m--> 912\u001b[0m \u001b[39mreturn\u001b[39;00m _read(filepath_or_buffer, kwds)\n",
      "File \u001b[0;32m~/.local/lib/python3.10/site-packages/pandas/io/parsers/readers.py:577\u001b[0m, in \u001b[0;36m_read\u001b[0;34m(filepath_or_buffer, kwds)\u001b[0m\n\u001b[1;32m    574\u001b[0m _validate_names(kwds\u001b[39m.\u001b[39mget(\u001b[39m\"\u001b[39m\u001b[39mnames\u001b[39m\u001b[39m\"\u001b[39m, \u001b[39mNone\u001b[39;00m))\n\u001b[1;32m    576\u001b[0m \u001b[39m# Create the parser.\u001b[39;00m\n\u001b[0;32m--> 577\u001b[0m parser \u001b[39m=\u001b[39m TextFileReader(filepath_or_buffer, \u001b[39m*\u001b[39;49m\u001b[39m*\u001b[39;49mkwds)\n\u001b[1;32m    579\u001b[0m \u001b[39mif\u001b[39;00m chunksize \u001b[39mor\u001b[39;00m iterator:\n\u001b[1;32m    580\u001b[0m     \u001b[39mreturn\u001b[39;00m parser\n",
      "File \u001b[0;32m~/.local/lib/python3.10/site-packages/pandas/io/parsers/readers.py:1407\u001b[0m, in \u001b[0;36mTextFileReader.__init__\u001b[0;34m(self, f, engine, **kwds)\u001b[0m\n\u001b[1;32m   1404\u001b[0m     \u001b[39mself\u001b[39m\u001b[39m.\u001b[39moptions[\u001b[39m\"\u001b[39m\u001b[39mhas_index_names\u001b[39m\u001b[39m\"\u001b[39m] \u001b[39m=\u001b[39m kwds[\u001b[39m\"\u001b[39m\u001b[39mhas_index_names\u001b[39m\u001b[39m\"\u001b[39m]\n\u001b[1;32m   1406\u001b[0m \u001b[39mself\u001b[39m\u001b[39m.\u001b[39mhandles: IOHandles \u001b[39m|\u001b[39m \u001b[39mNone\u001b[39;00m \u001b[39m=\u001b[39m \u001b[39mNone\u001b[39;00m\n\u001b[0;32m-> 1407\u001b[0m \u001b[39mself\u001b[39m\u001b[39m.\u001b[39m_engine \u001b[39m=\u001b[39m \u001b[39mself\u001b[39;49m\u001b[39m.\u001b[39;49m_make_engine(f, \u001b[39mself\u001b[39;49m\u001b[39m.\u001b[39;49mengine)\n",
      "File \u001b[0;32m~/.local/lib/python3.10/site-packages/pandas/io/parsers/readers.py:1661\u001b[0m, in \u001b[0;36mTextFileReader._make_engine\u001b[0;34m(self, f, engine)\u001b[0m\n\u001b[1;32m   1659\u001b[0m     \u001b[39mif\u001b[39;00m \u001b[39m\"\u001b[39m\u001b[39mb\u001b[39m\u001b[39m\"\u001b[39m \u001b[39mnot\u001b[39;00m \u001b[39min\u001b[39;00m mode:\n\u001b[1;32m   1660\u001b[0m         mode \u001b[39m+\u001b[39m\u001b[39m=\u001b[39m \u001b[39m\"\u001b[39m\u001b[39mb\u001b[39m\u001b[39m\"\u001b[39m\n\u001b[0;32m-> 1661\u001b[0m \u001b[39mself\u001b[39m\u001b[39m.\u001b[39mhandles \u001b[39m=\u001b[39m get_handle(\n\u001b[1;32m   1662\u001b[0m     f,\n\u001b[1;32m   1663\u001b[0m     mode,\n\u001b[1;32m   1664\u001b[0m     encoding\u001b[39m=\u001b[39;49m\u001b[39mself\u001b[39;49m\u001b[39m.\u001b[39;49moptions\u001b[39m.\u001b[39;49mget(\u001b[39m\"\u001b[39;49m\u001b[39mencoding\u001b[39;49m\u001b[39m\"\u001b[39;49m, \u001b[39mNone\u001b[39;49;00m),\n\u001b[1;32m   1665\u001b[0m     compression\u001b[39m=\u001b[39;49m\u001b[39mself\u001b[39;49m\u001b[39m.\u001b[39;49moptions\u001b[39m.\u001b[39;49mget(\u001b[39m\"\u001b[39;49m\u001b[39mcompression\u001b[39;49m\u001b[39m\"\u001b[39;49m, \u001b[39mNone\u001b[39;49;00m),\n\u001b[1;32m   1666\u001b[0m     memory_map\u001b[39m=\u001b[39;49m\u001b[39mself\u001b[39;49m\u001b[39m.\u001b[39;49moptions\u001b[39m.\u001b[39;49mget(\u001b[39m\"\u001b[39;49m\u001b[39mmemory_map\u001b[39;49m\u001b[39m\"\u001b[39;49m, \u001b[39mFalse\u001b[39;49;00m),\n\u001b[1;32m   1667\u001b[0m     is_text\u001b[39m=\u001b[39;49mis_text,\n\u001b[1;32m   1668\u001b[0m     errors\u001b[39m=\u001b[39;49m\u001b[39mself\u001b[39;49m\u001b[39m.\u001b[39;49moptions\u001b[39m.\u001b[39;49mget(\u001b[39m\"\u001b[39;49m\u001b[39mencoding_errors\u001b[39;49m\u001b[39m\"\u001b[39;49m, \u001b[39m\"\u001b[39;49m\u001b[39mstrict\u001b[39;49m\u001b[39m\"\u001b[39;49m),\n\u001b[1;32m   1669\u001b[0m     storage_options\u001b[39m=\u001b[39;49m\u001b[39mself\u001b[39;49m\u001b[39m.\u001b[39;49moptions\u001b[39m.\u001b[39;49mget(\u001b[39m\"\u001b[39;49m\u001b[39mstorage_options\u001b[39;49m\u001b[39m\"\u001b[39;49m, \u001b[39mNone\u001b[39;49;00m),\n\u001b[1;32m   1670\u001b[0m )\n\u001b[1;32m   1671\u001b[0m \u001b[39massert\u001b[39;00m \u001b[39mself\u001b[39m\u001b[39m.\u001b[39mhandles \u001b[39mis\u001b[39;00m \u001b[39mnot\u001b[39;00m \u001b[39mNone\u001b[39;00m\n\u001b[1;32m   1672\u001b[0m f \u001b[39m=\u001b[39m \u001b[39mself\u001b[39m\u001b[39m.\u001b[39mhandles\u001b[39m.\u001b[39mhandle\n",
      "File \u001b[0;32m~/.local/lib/python3.10/site-packages/pandas/io/common.py:859\u001b[0m, in \u001b[0;36mget_handle\u001b[0;34m(path_or_buf, mode, encoding, compression, memory_map, is_text, errors, storage_options)\u001b[0m\n\u001b[1;32m    854\u001b[0m \u001b[39melif\u001b[39;00m \u001b[39misinstance\u001b[39m(handle, \u001b[39mstr\u001b[39m):\n\u001b[1;32m    855\u001b[0m     \u001b[39m# Check whether the filename is to be opened in binary mode.\u001b[39;00m\n\u001b[1;32m    856\u001b[0m     \u001b[39m# Binary mode does not support 'encoding' and 'newline'.\u001b[39;00m\n\u001b[1;32m    857\u001b[0m     \u001b[39mif\u001b[39;00m ioargs\u001b[39m.\u001b[39mencoding \u001b[39mand\u001b[39;00m \u001b[39m\"\u001b[39m\u001b[39mb\u001b[39m\u001b[39m\"\u001b[39m \u001b[39mnot\u001b[39;00m \u001b[39min\u001b[39;00m ioargs\u001b[39m.\u001b[39mmode:\n\u001b[1;32m    858\u001b[0m         \u001b[39m# Encoding\u001b[39;00m\n\u001b[0;32m--> 859\u001b[0m         handle \u001b[39m=\u001b[39m \u001b[39mopen\u001b[39;49m(\n\u001b[1;32m    860\u001b[0m             handle,\n\u001b[1;32m    861\u001b[0m             ioargs\u001b[39m.\u001b[39;49mmode,\n\u001b[1;32m    862\u001b[0m             encoding\u001b[39m=\u001b[39;49mioargs\u001b[39m.\u001b[39;49mencoding,\n\u001b[1;32m    863\u001b[0m             errors\u001b[39m=\u001b[39;49merrors,\n\u001b[1;32m    864\u001b[0m             newline\u001b[39m=\u001b[39;49m\u001b[39m\"\u001b[39;49m\u001b[39m\"\u001b[39;49m,\n\u001b[1;32m    865\u001b[0m         )\n\u001b[1;32m    866\u001b[0m     \u001b[39melse\u001b[39;00m:\n\u001b[1;32m    867\u001b[0m         \u001b[39m# Binary mode\u001b[39;00m\n\u001b[1;32m    868\u001b[0m         handle \u001b[39m=\u001b[39m \u001b[39mopen\u001b[39m(handle, ioargs\u001b[39m.\u001b[39mmode)\n",
      "\u001b[0;31mFileNotFoundError\u001b[0m: [Errno 2] No such file or directory: 'data/telecom_customer_churn_cleaned.csv'"
     ]
    }
   ],
   "source": [
    "# Load the dataset\n",
    "X, Y = load_dataset('data/telecom_customer_churn_cleaned.csv')"
   ]
  },
  {
   "cell_type": "markdown",
   "metadata": {},
   "source": [
    "We are going to differentiate (classify) between **class \"1\" (churned)** and **class \"-1\" (stayed)**"
   ]
  },
  {
   "cell_type": "markdown",
   "metadata": {},
   "source": [
    "# Split data in training and test sets\n",
    "\n",
    "\n",
    "\n",
    "Given $m$ total data, denote with $m_{t}$ the part used for training. Keep $m_t$ data as training data, and $m_{test}:= m-m_{t}$. <br>\n",
    "For instance one can take $m_t=0.75m$ of the data as training and $m_{test}=0.25m$ as testing. <br>\n",
    "Let us define as define\n",
    "\n",
    "$\\bullet$ $S_{t}$ the training data set\n",
    "\n",
    "$\\bullet$ $S_{test}$ the testing data set\n",
    "\n",
    "\n",
    "The reason for this splitting is as follows:\n",
    "\n",
    "TRAINING DATA: The training data are used to compute the empirical loss\n",
    "$$\n",
    "L_S(h) = \\frac{1}{m_t} \\sum_{z_i \\in S_{t}} \\ell(h,z_i)\n",
    "$$\n",
    "which is used to estimate $h$ in a given model class ${\\cal H}$.\n",
    "i.e. \n",
    "$$\n",
    "\\hat{h} = {\\rm arg\\; min}_{h \\in {\\cal H}} \\, L_S(h)\n",
    "$$\n",
    "\n",
    "TESTING DATA: The test data set can be used to estimate the performance of the final estimated model\n",
    "$\\hat h_{\\hat d_j}$ using:\n",
    "$$\n",
    "L_{{\\cal D}}(\\hat h_{\\hat d_j}) \\simeq \\frac{1}{m_{test}} \\sum_{ z_i \\in S_{test}} \\ell(\\hat h_{\\hat d_j},z_i)\n",
    "$$"
   ]
  },
  {
   "cell_type": "markdown",
   "metadata": {},
   "source": [
    "**TO DO (A.1.1):** **Divide** the **data into training and test set** (**75%** of the data in the **first** set, **25%** in the **second** one). <br>\n",
    "<br>\n",
    "Notice that as is common practice in Statistics and Machine Learning, **we scale the data** (= each variable) so that it is centered **(zero mean)** and has **standard deviation equal to 1**. <br>\n",
    "This helps in terms of numerical conditioning of the (inverse) problems of estimating the model (the coefficients of the linear regression in this case), as well as to give the same scale to all the coefficients."
   ]
  },
  {
   "cell_type": "code",
   "execution_count": null,
   "metadata": {},
   "outputs": [
    {
     "name": "stdout",
     "output_type": "stream",
     "text": [
      "Number of samples in the train set: 2818\n",
      "Number of samples in the test set: 939\n",
      "\n",
      "Number of night instances in test: 478\n",
      "Number of day instances in test: 461\n",
      "\n",
      "Mean of the training input data: [-0. -0.  0.]\n",
      "Std of the training input data: [1. 1. 1.]\n",
      "Mean of the test input data: [ 0.01269855 -0.01963778 -0.00410137]\n",
      "Std of the test input data: [0.98323724 1.03319628 1.02985004]\n"
     ]
    }
   ],
   "source": [
    "# compute the splits\n",
    "m_training = round(0.75*len(X))\n",
    "\n",
    "# m_test is the number of samples in the test set (total-training)\n",
    "m_test =  len(X)-m_training\n",
    "\n",
    "\n",
    "# X_training = instances for training set\n",
    "X_training =  X[:m_training]\n",
    "# Y_training = labels for the training set\n",
    "Y_training =  Y[:m_training]\n",
    "\n",
    "# X_test = instances for test set\n",
    "X_test =   X[m_training:]\n",
    "# Y_test = labels for the test set\n",
    "Y_test =  Y[m_training:]\n",
    "\n",
    "print(\"Number of samples in the train set:\", X_training.shape[0])\n",
    "print(\"Number of samples in the test set:\", X_test.shape[0])\n",
    "print(\"\\nNumber of night instances in test:\", np.sum(Y_test==-1))\n",
    "print(\"Number of day instances in test:\", np.sum(Y_test==1))\n",
    "\n",
    "# standardize the input matrix\n",
    "# the transformation is computed on training data and then used on all the 3 sets\n",
    "scaler = preprocessing.StandardScaler().fit(X_training) #fits the parameter of transformation on the training set\n",
    "\n",
    "np.set_printoptions(suppress=True) # sets to zero floating point numbers < min_float_eps\n",
    "X_training =  scaler.transform(X_training)  #transforms the value using the fit parameters found before\n",
    "print (\"\\nMean of the training input data:\", X_training.mean(axis=0))\n",
    "print (\"Std of the training input data:\",X_training.std(axis=0))\n",
    "\n",
    "X_test =  scaler.transform(X_test)  #Does the same to the test set but using the parameters found for the training \n",
    "print (\"Mean of the test input data:\", X_test.mean(axis=0))\n",
    "print (\"Std of the test input data:\", X_test.std(axis=0))"
   ]
  },
  {
   "cell_type": "markdown",
   "metadata": {},
   "source": [
    "We **add a 1 in front of each sample** so that we can use a vector in **homogeneous coordinates** to describe all the coefficients of the model. This can be done with the function $hstack$ in $numpy$."
   ]
  },
  {
   "cell_type": "code",
   "execution_count": null,
   "metadata": {},
   "outputs": [],
   "source": [
    "def to_homogeneous(X_training, X_test):\n",
    "    # Add a 1 to each sample (homogeneous coordinates)\n",
    "    X_training = np.hstack( [np.ones( (X_training.shape[0], 1) ), X_training] )\n",
    "    X_test = np.hstack( [np.ones( (X_test.shape[0], 1) ), X_test] )\n",
    "    \n",
    "    return X_training, X_test"
   ]
  },
  {
   "cell_type": "code",
   "execution_count": null,
   "metadata": {},
   "outputs": [
    {
     "name": "stdout",
     "output_type": "stream",
     "text": [
      "Training set in homogeneous coordinates:\n",
      "[[ 1.          1.68808887  1.03309806 -0.80075314]\n",
      " [ 1.         -0.64016305  0.28619794 -1.39186812]\n",
      " [ 1.         -1.09749825  0.09106187  1.2681493 ]\n",
      " [ 1.          0.48238698  0.7269363  -0.74164164]\n",
      " [ 1.         -0.14125193 -1.62478977  1.03170331]\n",
      " [ 1.         -0.76489083  0.0977907  -0.56430714]\n",
      " [ 1.          0.27450735  0.78244914  1.2681493 ]\n",
      " [ 1.         -1.13907418 -0.74835967  0.91348032]\n",
      " [ 1.         -1.18065011  0.94225886 -1.09631063]\n",
      " [ 1.          1.52178516  1.25514945  1.14992631]]\n"
     ]
    }
   ],
   "source": [
    "# convert to homogeneous coordinates using the function above\n",
    "X_training, X_test = to_homogeneous(X_training, X_test)\n",
    "print(\"Training set in homogeneous coordinates:\")\n",
    "print(X_training[:10])"
   ]
  },
  {
   "cell_type": "markdown",
   "metadata": {},
   "source": [
    "**TO DO (A.1.2):** Now **complete** the function *perceptron*. <br>\n",
    "The **perceptron** algorithm **does not terminate** if the **data** is not **linearly separable**, therefore your implementation should **terminate** if it **reached the termination** condition seen in class **or** if a **maximum number of iterations** have already been run, where one **iteration** corresponds to **one update of the perceptron weights**. In case the **termination** is reached **because** the **maximum** number of **iterations** have been completed, the implementation should **return the best model** seen throughout .\n",
    "\n",
    "The input parameters to pass are:\n",
    "- $X$: the matrix of input features, one row for each sample\n",
    "- $Y$: the vector of labels for the input features matrix X\n",
    "- $max\\_num\\_iterations$: the maximum number of iterations for running the perceptron\n",
    "\n",
    "The output values are:\n",
    "- $best\\_w$: the vector with the coefficients of the best model (or the latest, if the termination condition is reached)\n",
    "- $best\\_error$: the *fraction* of misclassified samples for the best model"
   ]
  },
  {
   "cell_type": "code",
   "execution_count": null,
   "metadata": {},
   "outputs": [],
   "source": [
    "def count_errors(current_w, X, Y):\n",
    "    # This function:\n",
    "    # computes the number of misclassified samples\n",
    "    # returns the index of all misclassified samples\n",
    "    # if there are no misclassified samples, returns -1 as index\n",
    "    \n",
    "    index_misclassified = [i for i in range(X.shape[0]) if np.dot(current_w, X[i])*Y[i]<=0]\n",
    "    \n",
    "    num_misclassified = len(index_misclassified)\n",
    "    \n",
    "    if num_misclassified == 0:\n",
    "        index_misclassified = -1\n",
    "    \n",
    "    return num_misclassified, index_misclassified\n",
    "        \n",
    "        \n",
    "def perceptron_update(current_w, x, y):\n",
    "    # Place in this function the update rule of the perceptron algorithm\n",
    "    # Remember that numpy arrays can be treated as generalized variables\n",
    "    # therefore given array a = [1,2,3,4], the operation b = 10*a will yield\n",
    "    # b = [10, 20, 30, 40]\n",
    "    new_w = current_w + x*y \n",
    "    return new_w\n",
    "\n",
    "def perceptron_no_randomization(X, Y, max_num_iterations):\n",
    "    \n",
    "    # Initialize some support variables\n",
    "    num_samples = X.shape[0]\n",
    "    # best_errors will keep track of the best (minimum) number of errors\n",
    "    # seen throughout training, used for the update of the best_w variable\n",
    "    best_error = num_samples+1\n",
    "    \n",
    "    # Initialize the weights of the algorith with w=0\n",
    "    curr_w = np.zeros(X.shape[1])\n",
    "    # The best_w variable will be used to keep track of the best solution\n",
    "    best_w = curr_w.copy()\n",
    "\n",
    "    # compute the number of misclassified samples and the index of the first of them\n",
    "    num_misclassified, index_misclassified = count_errors(curr_w, X, Y)\n",
    "    # update the 'best' variables\n",
    "    if num_misclassified < best_error:\n",
    "        best_error = num_misclassified\n",
    "        best_w = curr_w\n",
    "        \n",
    "    # initialize the number of iterations\n",
    "    num_iter = 0\n",
    "    # Main loop continue until all samples correctly classified or max # iterations reached\n",
    "    # Remember that to signify that no errors were found we set index_misclassified = -1\n",
    "    while index_misclassified != -1 and num_iter < max_num_iterations:\n",
    "        \n",
    "         # Choose the misclassified sample with the lowest index at each iteration\n",
    "        num_iter = num_iter + 1         # increase iteration number\n",
    "        i = index_misclassified[0]      #correct the perceptron using the first error found\n",
    "        curr_w = perceptron_update(curr_w, X[i], Y[i]) \n",
    "        num_misclassified, index_misclassified = count_errors(curr_w, X, Y)\n",
    "        \n",
    "        if num_misclassified < best_error:\n",
    "            best_error = num_misclassified\n",
    "            best_w = curr_w\n",
    "            \n",
    "        \n",
    "        \n",
    "    # as required, return the best error as a ratio with respect to the total number of samples\n",
    "    best_error = best_error/num_samples\n",
    "    \n",
    "    return best_w, best_error"
   ]
  },
  {
   "cell_type": "markdown",
   "metadata": {},
   "source": [
    "Now we use the implementation above of the perceptron to learn a model from the training data using 30 iterations and print the error of the best model we have found."
   ]
  },
  {
   "cell_type": "code",
   "execution_count": null,
   "metadata": {},
   "outputs": [
    {
     "name": "stdout",
     "output_type": "stream",
     "text": [
      "Training Error of perceptron (30 iterations): 0.3956706884315117\n"
     ]
    }
   ],
   "source": [
    "# Now run the perceptron for 100 iterations\n",
    "w_found, error = perceptron_no_randomization(X_training,Y_training, 30)\n",
    "print(\"Training Error of perceptron (30 iterations): \" + str(error))"
   ]
  },
  {
   "cell_type": "markdown",
   "metadata": {},
   "source": [
    "**TO DO (A.1.3):** use the best model $w\\_found$ to **predict the labels for the test dataset** and print the fraction of misclassified samples in the test set (the test error that is an estimate of the true loss)."
   ]
  },
  {
   "cell_type": "code",
   "execution_count": null,
   "metadata": {},
   "outputs": [
    {
     "name": "stdout",
     "output_type": "stream",
     "text": [
      "Test Error of perceptron (30 iterations): 0.402555910543131\n"
     ]
    }
   ],
   "source": [
    "errors, _ = count_errors(w_found, X_test,Y_test)\n",
    "\n",
    "true_loss_estimate = errors/X_test.shape[0]   # Error rate on the test set\n",
    "# NOTE: you can avoid using num_errors if you prefer, as long as true_loss_estimate is correct\n",
    "print(\"Test Error of perceptron (30 iterations): \" + str(true_loss_estimate))"
   ]
  },
  {
   "cell_type": "markdown",
   "metadata": {},
   "source": [
    "**TO DO (A.1.4):** implement the correct randomized version of the perceptron such that at each iteration the algorithm picks a random misclassified sample and updates the weights using that sample."
   ]
  },
  {
   "cell_type": "code",
   "execution_count": null,
   "metadata": {},
   "outputs": [],
   "source": [
    "def perceptron(X, Y, max_num_iterations):\n",
    "    # Use the previous function as a template to \n",
    "    # implement the random version of the perceptron algorithm\n",
    "    \n",
    "    # Initialize some support variables\n",
    "    num_samples = X.shape[0]\n",
    "    # best_errors will keep track of the best (minimum) number of errors\n",
    "    # seen throughout training, used for the update of the best_w variable\n",
    "    best_error = num_samples+1\n",
    "    \n",
    "    # Initialize the weights of the algorith with w=0\n",
    "    curr_w = np.zeros(X.shape[1])\n",
    "    # The best_w variable will be used to keep track of the best solution\n",
    "    best_w = curr_w.copy()\n",
    "\n",
    "    # compute the number of misclassified samples and the index of the first of them\n",
    "    num_misclassified, index_misclassified = count_errors(curr_w, X, Y)\n",
    "    # update the 'best' variables\n",
    "    if num_misclassified < best_error:\n",
    "        best_error = num_misclassified\n",
    "        best_w = curr_w\n",
    "        \n",
    "    # initialize the number of iterations\n",
    "    num_iter = 0\n",
    "    # Main loop continue until all samples correctly classified or max # iterations reached\n",
    "    # Remember that to signify that no errors were found we set index_misclassified = -1\n",
    "    while index_misclassified != -1 and num_iter < max_num_iterations:\n",
    "        \n",
    "         # Choose the misclassified sample with the lowest index at each iteration\n",
    "        num_iter = num_iter + 1         # increase iteration number\n",
    "        i = np.random.choice(index_misclassified)           # pick a random index from the miscalssified list\n",
    "        curr_w = perceptron_update(curr_w, X[i], Y[i])      # correct the perceptron using said index\n",
    "        num_misclassified, index_misclassified = count_errors(curr_w, X, Y)\n",
    "        \n",
    "        if num_misclassified < best_error:  \n",
    "            best_error = num_misclassified\n",
    "            best_w = curr_w\n",
    "        \n",
    "        \n",
    "    # as required, return the best error as a ratio with respect to the total number of samples\n",
    "    best_error = best_error/num_samples\n",
    "    \n",
    "    return best_w, best_error"
   ]
  },
  {
   "cell_type": "markdown",
   "metadata": {},
   "source": [
    "**TO DO (A.1.5):** Now test the correct version of the perceptron using 30 iterations and print the error of the best model we have found."
   ]
  },
  {
   "cell_type": "code",
   "execution_count": null,
   "metadata": {},
   "outputs": [
    {
     "name": "stdout",
     "output_type": "stream",
     "text": [
      "Training Error of perceptron (30 iterations): 0.2512420156139106\n",
      "Test Error of perceptron (30 iterations): 0.2854100106496273\n"
     ]
    }
   ],
   "source": [
    "# Now run the perceptron for 30 iterations\n",
    "w_found, error = perceptron(X_training,Y_training, 30)\n",
    "print(\"Training Error of perceptron (30 iterations): \" + str(error))\n",
    "\n",
    "errors, _ = count_errors(w_found, X_test,Y_test)\n",
    "\n",
    "true_loss_estimate = errors/X_test.shape[0]  # Error rate on the test set\n",
    "# NOTE: you can avoid using num_errors if you prefer, as long as true_loss_estimate is correct\n",
    "print(\"Test Error of perceptron (30 iterations): \" + str(true_loss_estimate))"
   ]
  },
  {
   "cell_type": "markdown",
   "metadata": {},
   "source": [
    "**TO DO (A.Q2) [Answer the following]** <br>\n",
    "What is the difference between the two versions of the perceptron? Can you explain why there is this difference? <br>"
   ]
  },
  {
   "cell_type": "markdown",
   "metadata": {},
   "source": [
    "<div class=\"alert alert-block alert-info\">\n",
    "**ANSWER A.Q2**:<br>\n",
    "The miscalssified points fraction, both on the training and on the test set, is smaller for the random perceptron ( 0.3957 and 0.4026 versus 0.2512 and 0.2854, respectively). This happen because the random implementation of the perceptron is better and more robust as the results depends only on the points and not on how they are ordered. Instead the first implementation returns a result biased on the first points of the list, thata are corrected more often.\n",
    " </div>"
   ]
  },
  {
   "cell_type": "markdown",
   "metadata": {},
   "source": [
    "### Now consider only a the random version of the perceptron\n",
    "\n",
    "**TO DO (A.Q2) [Answer the following]** <br>\n",
    "What about the difference between the training error and the test error  in terms of fraction of misclassified samples? Explain what you observe. (Notice that with a very small dataset like this one results can change due to randomization, try to run with different random seeds if you get unexpected results)."
   ]
  },
  {
   "cell_type": "markdown",
   "metadata": {},
   "source": [
    "<div class=\"alert alert-block alert-info\">\n",
    "**ANSWER A.Q2**:<br>\n",
    "The problem is not separable (at least up to the number of iteraction used) as the training error doesn't go to zero. As expected, the error on the test set is bigger because the points from that set are different than the data over which perceptron is trying to minimize the number of misclassified points. This can be seen also from the normalization done at the start of the program: the mean and standard deviation of the test set is similar but not exactly 0 and 1 as for the training set over the normalization is computed, as the two set are similar (as taken from the same dataset).\n",
    " </div>"
   ]
  },
  {
   "cell_type": "code",
   "execution_count": null,
   "metadata": {},
   "outputs": [
    {
     "data": {
      "application/vnd.jupyter.widget-view+json": {
       "model_id": "b81f959a8f03411f9aa3876b983d1314",
       "version_major": 2,
       "version_minor": 0
      },
      "image/png": "[encoded data removed]",
      "text/html": [
       "\n",
       "            <div style=\"display: inline-block;\">\n",
       "                <div class=\"jupyter-widgets widget-label\" style=\"text-align: center;\">\n",
       "                    Figure\n",
       "                </div>\n",
       "                <img src='data:image/png;base64,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' width=800.0/>\n",
       "            </div>\n",
       "        "
      ],
      "text/plain": [
       "Canvas(toolbar=Toolbar(toolitems=[('Home', 'Reset original view', 'home', 'home'), ('Back', 'Back to previous …"
      ]
     },
     "metadata": {},
     "output_type": "display_data"
    }
   ],
   "source": [
    "# Plot the loss with respect to the number of iterations\n",
    "plt.figure(figsize=(8,4))\n",
    "\n",
    "num_iters = np.arange(0, 1001, 20)\n",
    "errors = []\n",
    "\n",
    "for num_iter in num_iters:\n",
    "    _, error = perceptron(X_training, Y_training, num_iter)\n",
    "    errors.append(error)\n",
    "\n",
    "plt.title('Training error')\n",
    "plt.plot(num_iters, errors)\n",
    "plt.xlabel('Number of iterations')\n",
    "plt.ylabel('Training error')\n",
    "plt.grid()\n",
    "\n",
    "# NOTE how the training loss decreases as we increase the number of iterations"
   ]
  },
  {
   "cell_type": "markdown",
   "metadata": {},
   "source": [
    "**TO DO (A.1.6):** Copy the code from the last 2 cells above in the cell below and repeat the training with 3000 iterations. Then print the error in the training set and the estimate of the true loss obtained from the test set."
   ]
  },
  {
   "cell_type": "code",
   "execution_count": null,
   "metadata": {
    "scrolled": true
   },
   "outputs": [
    {
     "name": "stdout",
     "output_type": "stream",
     "text": [
      "Training Error of perceptron (3000 iterations): 0.23988644428672817\n",
      "Test Error of perceptron (3000 iterations): 0.27050053248136313\n"
     ]
    }
   ],
   "source": [
    "w_found, error = perceptron(X_training, Y_training, 3000)\n",
    "print(\"Training Error of perceptron (3000 iterations): \" + str(error))\n",
    "\n",
    "num_errors, _ =  count_errors(w_found, X_test, Y_test) \n",
    "\n",
    "true_loss_estimate = num_errors/X_test.shape[0]\n",
    "print(\"Test Error of perceptron (3000 iterations): \" + str(true_loss_estimate))"
   ]
  },
  {
   "cell_type": "markdown",
   "metadata": {},
   "source": [
    "<div class=\"alert alert-block alert-info\">\n",
    "I added this code to plot both the training and the test fractions of misclassified samples. This code works but it's really slow if iterations up to 2000-3000 are used, so I converted the cell to raw data to avoid executing it when running the whole notebook. To execute it, just switch the language to python. The final graphs are shown at the end of the chapter.\n",
    "</div>"
   ]
  },
  {
   "cell_type": "raw",
   "metadata": {},
   "source": [
    "# Plot the loss with respect to the number of iterations\n",
    "\n",
    "plt.figure(figsize=(8,4))\n",
    "\n",
    "num_iters = np.linspace(00,3001, 100)\n",
    "ERM_error = []\n",
    "true_loss_error = []\n",
    "\n",
    "for num_iter in num_iters:\n",
    "    w_found, error = perceptron(X_training, Y_training, num_iter)\n",
    "    true_error, _  = count_errors(w_found, X_test, Y_test)\n",
    "    ERM_error.append(error)\n",
    "    true_loss_error.append(true_error/X_test.shape[0])\n",
    "    \n",
    "    \n",
    "# Plot the loss with respect to the number of iterations\n",
    "\n",
    "plt.title(\"Training and test error of the perceptron\")\n",
    "plt.plot(num_iters, ERM_error, label = 'Training error')\n",
    "plt.plot(num_iters, true_loss_error, label = 'Test error')\n",
    "plt.legend()\n",
    "plt.xlabel('Number of iterations')\n",
    "plt.ylabel('Error')\n",
    "plt.grid()"
   ]
  },
  {
   "cell_type": "markdown",
   "metadata": {},
   "source": [
    "**TO DO (A.Q3) [Answer the following]** <br>\n",
    "What about the difference between the training error and the test error in terms of the fraction of misclassified samples) when running for a larger number of iterations? Explain what you observe and compare with the previous case."
   ]
  },
  {
   "cell_type": "markdown",
   "metadata": {},
   "source": [
    "<div class=\"alert alert-block alert-info\">\n",
    "The misclassified samples fraction after around 250 iterations starts oscillating and shows a smaller decreasing trend (visible if the graph is zoomed in). The error on the test set oscillates but it's mostly constant. The oscillations are probably due to the random order in which the perceprton chooses the point to correct and are bigger than the decreasing trend of the function, so increasing the number of iterations after a certain point is just not useful. \n",
    "The problem is not realizable (the data can't be linearly separated) and so the empiric loss function doesn't go to zero but stabilizes, same for the true loss. Up to 3000 iterations no clear overfitting (i.e., a marked increase in the true loss function corresponding to a smaller error on the training set) is observed.\n",
    "\n",
    "</div>"
   ]
  },
  {
   "cell_type": "markdown",
   "metadata": {},
   "source": [
    "# A.2) Logistic Regression\n",
    "Now we use **logistic regression**, exploiting the implementation in **Scikit-learn**, to predict labels. We will also plot the decision boundaries of logistic regression.\n",
    "\n",
    "We first load the dataset again."
   ]
  },
  {
   "cell_type": "markdown",
   "metadata": {},
   "source": [
    "To define a logistic regression model in Scikit-learn use the instruction\n",
    "\n",
    "$linear\\_model.LogisticRegression(C=1e5)$\n",
    "\n",
    "($C$ is a parameter related to *regularization*, a technique that\n",
    "we will see later in the course. Setting it to a high value is almost\n",
    "as ignoring regularization, so the instruction above corresponds to the\n",
    "logistic regression you have seen in class.)\n",
    "\n",
    "To learn the model you need to use the $fit(...)$ instruction and to predict you need to use the $predict(...)$ function. <br>\n",
    "See the Scikit-learn documentation for how to use it [here](https://scikit-learn.org/stable/modules/generated/sklearn.linear_model.LogisticRegression.html).\n",
    "\n",
    "**TO DO (A.2.2):** **Define** the **logistic regression** model, then **learn** the model using **the training set** and **predict** on the **test set**. Then **print** the **fraction of samples misclassified** in the training set and in the test set."
   ]
  },
  {
   "cell_type": "code",
   "execution_count": null,
   "metadata": {},
   "outputs": [],
   "source": [
    "def train_logreg(X_training, Y_training, X_test, Y_test):\n",
    "  # part on logistic regression for 2 classes\n",
    "  logreg = linear_model.LogisticRegression(C = 1e5) # C should be very large to ignore regularization (see above)\n",
    "\n",
    "  # learn from training set: hint use fit(...)\n",
    "\n",
    "  logreg.fit(X_training, Y_training)\n",
    "  print(\"Intercept:\" , logreg.intercept_)\n",
    "  print(\"Coefficients:\" , logreg.coef_)\n",
    "\n",
    "  # predict on training set\n",
    "  predicted_training = logreg.predict(X_training)\n",
    "\n",
    "  # print the error rate = fraction of misclassified samples\n",
    "  error_count_training = (predicted_training != Y_training).sum()\n",
    "  error_rate_training = error_count_training/X_training.shape[0]\n",
    "  print(\"Error rate on training set: \"+str(error_rate_training))\n",
    "\n",
    "  # predict on test set\n",
    "  predicted_test = logreg.predict(X_test)\n",
    "\n",
    "  #print the error rate = fraction of misclassified samples\n",
    "  error_count_test = (predicted_test != Y_test).sum()\n",
    "  error_rate_test = error_count_test/X_test.shape[0]\n",
    "  print(\"Error rate on test set: \" + str(error_rate_test)+ '\\n')\n",
    "  \n",
    "  return predicted_test"
   ]
  },
  {
   "cell_type": "markdown",
   "metadata": {},
   "source": [
    "**TO DO (A.2.3)** Now **pick two features** and restrict the dataset to include only two features, whose indices are specified in the $idx0$ and $idx1$ variables below. Then split into training and test."
   ]
  },
  {
   "cell_type": "code",
   "execution_count": null,
   "metadata": {},
   "outputs": [],
   "source": [
    "def restrict_to_features(feature_1, feature_2):\n",
    "  \n",
    "  #I changed the code a little using dictionaries\n",
    "  \n",
    "  print( f'Comparing {feature_1} and {feature_2} ')\n",
    "  feature_indexes  = {\"Tenure in Months\":0,\"Monthly Charge\":1,\"Age\":2}\n",
    "  \n",
    "  # Select the two features to use\n",
    "  idx0 = feature_indexes[feature_1]\n",
    "  idx1 = feature_indexes[feature_2]\n",
    "\n",
    "  \n",
    "  X_reduced = X[:,[idx0, idx1]]\n",
    "\n",
    "  # re-initialize the dataset splits, with the reduced sets\n",
    "  new_X_training = X_training[:,[idx0, idx1]]\n",
    "  new_X_test = X_test[:,[idx0, idx1]]\n",
    "  \n",
    "  return new_X_training, new_X_test"
   ]
  },
  {
   "cell_type": "markdown",
   "metadata": {},
   "source": [
    "Now learn a model using the training data and measure the performances."
   ]
  },
  {
   "cell_type": "code",
   "execution_count": null,
   "metadata": {},
   "outputs": [
    {
     "name": "stdout",
     "output_type": "stream",
     "text": [
      "Comparing Monthly Charge and Tenure in Months \n",
      "Intercept: [-0.0246772]\n",
      "Coefficients: [[-1.17105654 -0.0246772 ]]\n",
      "Error rate on training set: 0.29098651525904895\n",
      "Error rate on test set: 0.33226837060702874\n",
      "\n",
      "Error rate on test set: 0.33226837060702874\n"
     ]
    }
   ],
   "source": [
    "# predict on test set\n",
    "X_training_restricted, X_test_restricted = restrict_to_features('Monthly Charge', 'Tenure in Months')\n",
    "predicted_test = train_logreg(X_training_restricted, Y_training, X_test_restricted, Y_test)\n",
    "\n",
    "#print the error rate = fraction of misclassified samples\n",
    "error_count_test = (predicted_test != Y_test).sum()\n",
    "\n",
    "# print the error rate = fraction of misclassified samples\n",
    "error_count_test = (predicted_test != Y_test).sum()\n",
    "error_rate_test = error_count_test/X_test.shape[0]\n",
    "print(\"Error rate on test set: \" + str(error_rate_test))"
   ]
  },
  {
   "cell_type": "code",
   "execution_count": null,
   "metadata": {},
   "outputs": [
    {
     "name": "stdout",
     "output_type": "stream",
     "text": [
      "Comparing Monthly Charge and Tenure in Months \n",
      "Intercept: [-0.0246772]\n",
      "Coefficients: [[-1.17105654 -0.0246772 ]]\n",
      "Error rate on training set: 0.29098651525904895\n",
      "Error rate on test set: 0.33226837060702874\n",
      "\n",
      "Comparing Monthly Charge and Age \n",
      "Intercept: [-0.08742281]\n",
      "Coefficients: [[-1.47967208  0.87562119]]\n",
      "Error rate on training set: 0.24166075230660042\n",
      "Error rate on test set: 0.25878594249201275\n",
      "\n",
      "Comparing Age and Tenure in Months \n",
      "Intercept: [-0.002177]\n",
      "Coefficients: [[ 0.41291071 -0.002177  ]]\n",
      "Error rate on training set: 0.3875088715400994\n",
      "Error rate on test set: 0.3919062832800852\n",
      "\n",
      "Baseline\n",
      "Intercept: [-0.04217901]\n",
      "Coefficients: [[-0.04217901 -1.47962933  0.84760403  0.21123082]]\n",
      "Error rate on training set: 0.24201561391057488\n",
      "Error rate on test set: 0.25559105431309903\n",
      "\n"
     ]
    }
   ],
   "source": [
    "#Comparing the errors for all the features\n",
    "\n",
    "X_training_restricted, X_test_restricted = restrict_to_features('Monthly Charge', 'Tenure in Months')\n",
    "predicted_test = train_logreg(X_training_restricted, Y_training, X_test_restricted, Y_test)\n",
    "\n",
    "X_training_restricted, X_test_restricted = restrict_to_features('Monthly Charge', 'Age')\n",
    "predicted_test = train_logreg(X_training_restricted, Y_training, X_test_restricted, Y_test)\n",
    "\n",
    "X_training_restricted, X_test_restricted = restrict_to_features('Age', 'Tenure in Months')\n",
    "predicted_test = train_logreg(X_training_restricted, Y_training, X_test_restricted, Y_test)\n",
    "\n",
    "print('Baseline')\n",
    "predicted_test = train_logreg(X_training, Y_training, X_test, Y_test)"
   ]
  },
  {
   "cell_type": "markdown",
   "metadata": {},
   "source": [
    "**TO DO (A.Q4) [Answer the following]** <br>\n",
    "Which features did you select and why? <br>\n",
    "Compare the perfomance of the classifiers trained with every combination of two features with that of the baseline (which used all 3 features)."
   ]
  },
  {
   "cell_type": "markdown",
   "metadata": {},
   "source": [
    "<div class=\"alert alert-block alert-info\">\n",
    "**ANSWER A.Q4**:<br>\n",
    "This test shows which features are more useful to separate the data, i.e. which combination of two gives less miscalssified samples. Compared to the baseline, the errors are greater as there is one degree of freedom less on which the data could be separated.\n",
    "The baseline errors are comparable with the ones found by the perceptron.\n",
    "By looking at the comparison between features, the comparison 'Monthly Charge' and 'Age' have the best errors, so these are the two features that mostly determines the division between 'stayed' and 'churned'. The training error on this comparison is a bit smaller than the baseline but the test error is not problematic, so it's acceptable.\n",
    "</div>"
   ]
  }
 ],
 "metadata": {
  "anaconda-cloud": {},
  "kernelspec": {
   "display_name": "Python 3",
   "language": "python",
   "name": "python3"
  },
  "language_info": {
   "codemirror_mode": {
    "name": "ipython",
    "version": 3
   },
   "file_extension": ".py",
   "mimetype": "text/x-python",
   "name": "python",
   "nbconvert_exporter": "python",
   "pygments_lexer": "ipython3",
   "version": "3.10.12"
  }
 },
 "nbformat": 4,
 "nbformat_minor": 4
}
